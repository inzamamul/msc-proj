{
 "cells": [
  {
   "cell_type": "code",
   "execution_count": 9,
   "metadata": {
    "collapsed": false
   },
   "outputs": [
    {
     "name": "stdout",
     "output_type": "stream",
     "text": [
      "Extracting MNIST_data/train-images-idx3-ubyte.gz\n",
      "Extracting MNIST_data/train-labels-idx1-ubyte.gz\n",
      "Extracting MNIST_data/t10k-images-idx3-ubyte.gz\n",
      "Extracting MNIST_data/t10k-labels-idx1-ubyte.gz\n"
     ]
    }
   ],
   "source": [
    "from tensorflow.examples.tutorials.mnist import input_data\n",
    "mnist = input_data.read_data_sets('MNIST_data', one_hot = True)\n"
   ]
  },
  {
   "cell_type": "code",
   "execution_count": 30,
   "metadata": {
    "collapsed": false
   },
   "outputs": [
    {
     "name": "stdout",
     "output_type": "stream",
     "text": [
      "batch data[0] is : [[ 0.  0.  0. ...,  0.  0.  0.]\n",
      " [ 0.  0.  0. ...,  0.  0.  0.]\n",
      " [ 0.  0.  0. ...,  0.  0.  0.]\n",
      " ..., \n",
      " [ 0.  0.  0. ...,  0.  0.  0.]\n",
      " [ 0.  0.  0. ...,  0.  0.  0.]\n",
      " [ 0.  0.  0. ...,  0.  0.  0.]]\n",
      "image data[0] is :  [ array([[127, 124, 126, 128, 127, 128, 128, 129, 129, 138, 153, 159, 156,\n",
      "        141, 139, 141, 134, 128, 129, 128, 126, 128, 128, 128, 129, 128,\n",
      "        128, 127, 127, 128],\n",
      "       [127, 130, 128, 127, 127, 129, 129, 129, 134, 154, 148, 106, 101,\n",
      "        114, 121, 133, 142, 133, 127, 128, 130, 128, 127, 129, 129, 128,\n",
      "        127, 127, 128, 126],\n",
      "       [127, 128, 128, 128, 130, 130, 127, 129, 143, 160, 111,  72,  87,\n",
      "        105, 117, 124, 134, 133, 127, 127, 128, 131, 129, 128, 129, 128,\n",
      "        128, 127, 130, 128],\n",
      "       [130, 129, 128, 129, 129, 128, 129, 130, 146, 159,  91,  65,  92,\n",
      "        121, 134, 133, 136, 134, 128, 128, 128, 127, 127, 127, 127, 129,\n",
      "        127, 127, 129, 127],\n",
      "       [128, 127, 126, 128, 128, 129, 129, 130, 139, 154, 116,  84,  94,\n",
      "        123, 113, 131, 145, 133, 128, 129, 129, 129, 127, 128, 129, 128,\n",
      "        128, 126, 128, 128],\n",
      "       [129, 127, 125, 126, 128, 126, 126, 127, 132, 138, 126, 126, 115,\n",
      "         88, 108, 143, 139, 126, 126, 127, 128, 127, 128, 127, 127, 129,\n",
      "        129, 124, 124, 128],\n",
      "       [127, 127, 126, 127, 125, 128, 128, 128, 129, 139, 137, 122, 103,\n",
      "        105, 137, 143, 133, 127, 128, 128, 128, 127, 128, 126, 128, 131,\n",
      "        129, 126, 126, 129],\n",
      "       [126, 126, 128, 130, 129, 130, 130, 134, 139, 150, 163, 160, 145,\n",
      "        142, 140, 131, 128, 128, 127, 128, 126, 127, 126, 127, 125, 127,\n",
      "        130, 127, 126, 129],\n",
      "       [128, 128, 129, 131, 129, 132, 144, 164, 167, 160, 169, 166, 156,\n",
      "        155, 148, 135, 129, 127, 126, 128, 127, 129, 134, 139, 137, 136,\n",
      "        136, 132, 126, 128],\n",
      "       [125, 126, 127, 128, 129, 147, 174, 159, 109,  69,  79,  56,  86,\n",
      "        135, 149, 150, 139, 131, 128, 130, 130, 140, 160, 153, 149, 159,\n",
      "        157, 154, 138, 127],\n",
      "       [128, 127, 123, 123, 134, 163, 128,  93, 115, 107, 126, 129,  99,\n",
      "         90, 113, 135, 151, 141, 133, 133, 139, 147, 142,  93, 102,  91,\n",
      "         99, 138, 146, 135],\n",
      "       [129, 129, 127, 126, 158, 157,  65, 109, 158, 110, 129, 192, 185,\n",
      "        111,  95, 115, 131, 149, 144, 139, 145, 131, 104,  77,  90,  54,\n",
      "         65, 111, 135, 139],\n",
      "       [127, 131, 129, 135, 172, 128,  81, 149, 125,  37,  89, 143, 163,\n",
      "        141,  94,  89, 114, 162, 173, 156, 154, 143, 123, 114, 104, 109,\n",
      "        101, 103, 128, 140],\n",
      "       [125, 127, 135, 159, 166,  86,  74, 156, 138,  71,  86, 112, 133,\n",
      "        150, 119,  79,  70, 114, 154, 164, 162, 160, 142, 141, 129, 125,\n",
      "        105, 111, 138, 139],\n",
      "       [126, 128, 144, 170, 130,  97,  87,  99, 105,  92, 102, 125, 152,\n",
      "        123, 128, 153, 119,  67,  46,  72, 125, 156, 154, 133, 134, 130,\n",
      "        128, 140, 140, 132],\n",
      "       [127, 133, 155, 160, 108, 130, 130, 121, 128, 127, 120, 123, 139,\n",
      "        100,  96, 139, 182, 146,  83,  64,  88, 109, 147, 129, 133, 140,\n",
      "        140, 137, 129, 128],\n",
      "       [130, 141, 162, 124, 106, 129, 127, 128, 125, 126, 136, 140, 149,\n",
      "        112,  76, 114, 161, 163, 136, 119,  94,  91, 126, 140, 134, 128,\n",
      "        128, 128, 127, 126],\n",
      "       [132, 152, 158, 109, 113, 114, 111, 118, 119, 121, 136, 150, 144,\n",
      "        107,  92, 117, 128, 139, 129, 106, 105, 125, 136, 140, 132, 126,\n",
      "        127, 127, 125, 127],\n",
      "       [138, 163, 138, 102, 127, 108, 117, 127, 130, 128, 135, 149, 107,\n",
      "         82, 109, 133, 132, 130, 133, 131, 129, 131, 132, 135, 131, 129,\n",
      "        130, 130, 130, 129],\n",
      "       [144, 162, 105, 104, 128, 111, 123, 129, 130, 129, 130, 143, 126,\n",
      "         86, 109, 145, 144, 130, 125, 126, 124, 133, 138, 134, 129, 129,\n",
      "        127, 129, 129, 129],\n",
      "       [153, 147,  91, 117, 137, 128, 134, 132, 115, 116, 123, 133, 145,\n",
      "        125, 126, 129, 113, 131, 144, 141, 140, 138, 133, 129, 128, 127,\n",
      "        127, 129, 128, 128],\n",
      "       [155, 132, 106, 134, 136, 133, 129, 123, 118, 120, 116, 115, 136,\n",
      "        165, 122,  84, 129, 155, 146, 136, 132, 131, 129, 127, 127, 128,\n",
      "        129, 128, 130, 127],\n",
      "       [144, 118, 108, 140, 132, 130, 121, 106, 115, 125, 115, 122, 140,\n",
      "        130,  99, 127, 150, 141, 131, 127, 127, 129, 128, 128, 129, 127,\n",
      "        128, 129, 127, 125],\n",
      "       [131, 130, 100,  99, 140, 130, 126, 101,  98, 120, 153, 144, 101,\n",
      "         99, 132, 152, 139, 128, 126, 127, 128, 128, 129, 130, 130, 127,\n",
      "        127, 129, 130, 126],\n",
      "       [127, 140, 129,  85, 104, 165, 159,  97, 120, 147, 144,  97,  92,\n",
      "        136, 151, 138, 128, 129, 127, 129, 126, 127, 128, 128, 129, 128,\n",
      "        127, 128, 129, 129],\n",
      "       [129, 132, 134, 111, 111, 148, 143, 117, 134, 128, 108, 120, 141,\n",
      "        143, 135, 130, 130, 129, 128, 127, 128, 127, 127, 127, 128, 128,\n",
      "        128, 129, 130, 128],\n",
      "       [126, 129, 117, 117, 124, 110, 104, 116, 133, 134, 144, 144, 137,\n",
      "        131, 128, 129, 126, 128, 127, 126, 130, 128, 128, 129, 127, 127,\n",
      "        128, 127, 127, 128],\n",
      "       [129, 130, 122, 120, 119, 109, 114, 137, 139, 143, 140, 130, 128,\n",
      "        126, 127, 130, 129, 127, 128, 128, 129, 127, 127, 129, 130, 126,\n",
      "        128, 126, 128, 131],\n",
      "       [134, 137, 136, 129, 116, 112, 126, 136, 138, 133, 128, 127, 128,\n",
      "        128, 129, 131, 128, 128, 128, 127, 128, 128, 128, 128, 127, 128,\n",
      "        125, 126, 126, 128],\n",
      "       [132, 138, 141, 143, 127, 115, 121, 130, 135, 131, 129, 128, 130,\n",
      "        128, 129, 129, 127, 129, 128, 127, 127, 128, 128, 128, 126, 126,\n",
      "        125, 128, 129, 128]], dtype=uint8)\n",
      " 1]\n"
     ]
    }
   ],
   "source": [
    "import numpy as np \n",
    "image_data = np.load('training_np--30--30.npy')\n",
    "\n",
    "# print len(image_data)\n",
    "batch = mnist.train.next_batch(100)\n",
    "print \"batch data[0] is :\", batch[0]\n",
    "\n",
    "print \"image data[0] is : \", image_data[0]\n",
    "\n",
    "# todo save npy file as array[imagedata], array[labels]\n",
    "# rather than array[imagedata, labels]\n",
    "# perform batch jobs of ~20 or ~50 if more data available"
   ]
  },
  {
   "cell_type": "code",
   "execution_count": 11,
   "metadata": {
    "collapsed": false
   },
   "outputs": [],
   "source": [
    "import tensorflow as tf \n",
    "\n",
    "#makes tf more flexible about how we structure the code \n",
    "#allows to interleave oeprations which build a computation graph with ones that run the graph \n",
    "sess = tf.InteractiveSession()\n",
    "\n",
    "#build a softmax regression model\n",
    "# shape arg is optional, lets tf automatically catch bugs from inconsistent tensorshapes\n",
    "x = tf.placeholder(tf.float32, shape=[None, 784]) # 28x28 pixel image = 784, None indicates frst dimension\n",
    "y_ = tf.placeholder(tf.float32, shape = [None, 10]) # one hot 10-dimensional vector indictaing which digit class (0-9)\n",
    "\n",
    "# Define weights and biases\n",
    "W = tf.Variable(tf.zeros([784, 10])) # 784 input pixels by 10 output classes\n",
    "b = tf.Variable(tf.zeros([10])) # 10 output classes\n",
    "\n",
    "\n",
    "\n",
    "sess.run(tf.initialize_all_variables())\n",
    "\n",
    "y = tf.matmul(x,W) + b # mutliply vectorizd input images, x, by the weight matrix W and add the bias, b\n",
    "\n",
    "# calc loss function(indicates how bad the models prediction was on a single example, try to minimize accross all the examples)\n",
    "cross_entropy = tf.reduce_mean(tf.nn.softmax_cross_entropy_with_logits(labels = y_, logits = y))\n"
   ]
  },
  {
   "cell_type": "code",
   "execution_count": 12,
   "metadata": {
    "collapsed": false
   },
   "outputs": [
    {
     "name": "stdout",
     "output_type": "stream",
     "text": [
      "0.9162\n"
     ]
    }
   ],
   "source": [
    "# lame nn with crappy mnist accuracy\n",
    "#\n",
    "## training (strightforward because tf knows the computation graph)\n",
    "\n",
    "# train_step = tf.train.GradientDescentOptimizer(0.5).minimize(cross_entropy)\n",
    "\n",
    "# # apply gradient descent updates to the parameters\n",
    "# for _ in range(1000):\n",
    "#     batch = mnist.train.next_batch(100)\n",
    "#     train_step.run(feed_dict={x: batch[0], y_: batch[1]})\n",
    "    \n",
    "\n",
    "# # evaluate the model\n",
    "# correct_prediction = tf.equal(tf.argmax(y,1), tf.argmax(y_,1))\n",
    "\n",
    "# # determining what fraction are correct, we cast to floats and then take the mean of the numbers (i.e. True becomes 1, False becomes 0)\n",
    "# accuracy = tf.reduce_mean(tf.cast(correct_prediction, tf.float32))\n",
    "\n",
    "# # print accuracy \n",
    "# print(accuracy.eval(feed_dict={x: mnist.test.images, y_: mnist.test.labels}))\n",
    "\n"
   ]
  },
  {
   "cell_type": "code",
   "execution_count": 13,
   "metadata": {
    "collapsed": true
   },
   "outputs": [],
   "source": [
    "#\n",
    "###\n",
    "###### MULTILAYER COMPUTATIONAL GRAPH\n",
    "\n",
    "def weight_variable(shape):\n",
    "    initial = tf.truncated_normal(shape, stddev=0.1)\n",
    "    return tf.Variable(initial)\n",
    "\n",
    "# add bias 0.1 to avoid 'dead neurons' from using ReLU neurons/ activation functions\n",
    "def bias_variable(shape):\n",
    "    initial = tf.constant(0.1, shape=shape)\n",
    "    return tf.Variable(initial)\n",
    "\n",
    "# convolution and pooling. handling the boundaries and stride sizes. This is the vanilla vesion (stride of 1, zero padding, output is same size as input)\n",
    "# pooling is plain old max pooling over 2x2 blocks\n",
    "def conv2d(x, W):\n",
    "    return tf.nn.conv2d(x, W, strides=[1, 1, 1, 1],padding='SAME')\n",
    "\n",
    "def max_pool_2x2(x):\n",
    "    return tf.nn.max_pool(x, ksize=[1, 2, 2, 1], strides=[1, 2, 2, 1], padding='SAME')\n",
    "\n",
    "# first convolutional layer. consists of our first convolution, followed by max pooling\n",
    "# convolution will compute 32 features for each 5x5 patch\n",
    "# weight tensor wil thus have shape of [5, 5, 1, 32] i.e. [ patch size, patch size, input channels, output channels]\n",
    "W_conv1 = weight_variable([5, 5, 1, 32])\n",
    "b_conv1 = bias_variable([32]) # bias vector\n",
    "\n",
    "# reshape x to a 4d tensor, with the 2nd and 3rd dimensions corresponding to image width and height, last dimension is # of color channels\n",
    "x_image = tf.reshape(x, [-1, 28, 28, 1])\n",
    "\n",
    "# convolve x_image with the weight tesnor, add bias, apply ReLU function, then max pool\n",
    "# max pool_2x2 resizes image size to 14x14\n",
    "h_conv1 = tf.nn.relu(conv2d(x_image, W_conv1) + b_conv1)\n",
    "h_pool1 = max_pool_2x2(h_conv1)\n",
    "\n",
    "# second convolutional layer \n",
    "# will have 64 features for each 5x5 patch\n",
    "W_conv2 = weight_variable([5, 5, 32, 64])\n",
    "b_conv2 = bias_variable([64])\n",
    "\n",
    "h_conv2 = tf.nn.relu(conv2d(h_pool1, W_conv2) + b_conv2)\n",
    "h_pool2 = max_pool_2x2(h_conv2)\n",
    "\n",
    "# densely connected layer. Image size has been reduced to 7x7, we add a full_connected layer with 1024 neurons to allow processing on the entire image\n",
    "# reshape the tensor from the pooling layer into a batch of vectors, multiple by a weight matrix, add bias, apply ReLU\n",
    "W_fc1 = weight_variable([7 * 7 * 64, 1024])\n",
    "b_fc1 = bias_variable([1024])\n",
    "\n",
    "h_pool2_flat = tf.reshape(h_pool2, [-1, 7*7*64])\n",
    "h_fc1 = tf.nn.relu(tf.matmul(h_pool2_flat, W_fc1) + b_fc1)\n",
    "\n",
    "# add dropout to reduce overfitting - before readout layer. Dropout only really useful in large CNNs\n",
    "# turn dropout on during training, turn it off during testing\n",
    "keep_prob = tf.placeholder(tf.float32)\n",
    "h_fc1_drop = tf.nn.dropout(h_fc1, keep_prob)\n",
    "\n",
    "# readout layer\n",
    "W_fc2 = weight_variable([1024, 10])\n",
    "b_fc2 = bias_variable([10])\n",
    "\n",
    "y_conv = tf.matmul(h_fc1_drop, W_fc2) + b_fc2\n",
    "\n"
   ]
  },
  {
   "cell_type": "code",
   "execution_count": 27,
   "metadata": {
    "collapsed": false
   },
   "outputs": [
    {
     "name": "stdout",
     "output_type": "stream",
     "text": [
      "(50, 784)\n",
      "(50, 10)\n"
     ]
    }
   ],
   "source": [
    "# batch 50 images\n",
    "batch = mnist.train.next_batch(50)\n",
    "\n",
    "# 50 times 27*27 image flattened\n",
    "print batch[0].shape\n",
    "\n",
    "# 50 times 10-hot tensor label\n",
    "print batch[1].shape\n",
    "\n",
    "\n"
   ]
  },
  {
   "cell_type": "code",
   "execution_count": null,
   "metadata": {
    "collapsed": false
   },
   "outputs": [
    {
     "name": "stdout",
     "output_type": "stream",
     "text": [
      "\n",
      "step 0, training accuracy 0.1\n",
      "\n",
      "step 50, training accuracy 0.72\n",
      "\n",
      "step 100, training accuracy 0.84\n",
      "\n",
      "step 150, training accuracy 0.96\n"
     ]
    }
   ],
   "source": [
    "# train and evalutate the model\n",
    "# \n",
    "\n",
    "\n",
    "cross_entropy = tf.reduce_mean(tf.nn.softmax_cross_entropy_with_logits(labels=y_, logits=y_conv))\n",
    "train_step = tf.train.AdamOptimizer(1e-4).minimize(cross_entropy)\n",
    "correct_prediction = tf.equal(tf.argmax(y_conv, 1), tf.argmax(y_, 1))\n",
    "accuracy = tf.reduce_mean(tf.cast(correct_prediction, tf.float32))\n",
    "\n",
    "with tf.Session() as sess:\n",
    "    sess.run(tf.initialize_all_variables())\n",
    "    for i in range(1000):\n",
    "        #todo: collate image_data[0] in batches? or iterate through whole dict at once \n",
    "        batch = mnist.train.next_batch(50)\n",
    "        if i % 50 == 0:\n",
    "#             print batch[0][1]\n",
    "#             print batch[1][1]\n",
    "            \n",
    "            print \n",
    "            train_accuracy = accuracy.eval(feed_dict={x: batch[0], y_: batch[1], keep_prob: 1.0})\n",
    "            \n",
    "            print('step %d, training accuracy %g' % (i, train_accuracy))\n",
    "        train_step.run(feed_dict={x: batch[0], y_: batch[1], keep_prob: 0.5})\n",
    "\n",
    "    print('test accuracy %g' % accuracy.eval(feed_dict={x: mnist.test.images, y_: mnist.test.labels, keep_prob: 1.0}))\n",
    "    \n",
    "    prediction=tf.argmax(y,1)\n",
    "    print \"predictions\", prediction.eval(feed_dict={x: mnist.test.images}, session=sess)"
   ]
  },
  {
   "cell_type": "code",
   "execution_count": null,
   "metadata": {
    "collapsed": true
   },
   "outputs": [],
   "source": []
  }
 ],
 "metadata": {
  "anaconda-cloud": {},
  "kernelspec": {
   "display_name": "Python [default]",
   "language": "python",
   "name": "python2"
  },
  "language_info": {
   "codemirror_mode": {
    "name": "ipython",
    "version": 2
   },
   "file_extension": ".py",
   "mimetype": "text/x-python",
   "name": "python",
   "nbconvert_exporter": "python",
   "pygments_lexer": "ipython2",
   "version": "2.7.12"
  }
 },
 "nbformat": 4,
 "nbformat_minor": 1
}
